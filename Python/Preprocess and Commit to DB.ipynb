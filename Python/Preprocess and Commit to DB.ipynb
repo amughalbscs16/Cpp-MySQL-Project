{
 "cells": [
  {
   "cell_type": "code",
   "execution_count": 20,
   "id": "72546128",
   "metadata": {
    "scrolled": true
   },
   "outputs": [
    {
     "name": "stdout",
     "output_type": "stream",
     "text": [
      "Connected to MySQL Server\n",
      "<mysql.connector.connection_cext.CMySQLConnection object at 0x00000207C68D09D0>\n"
     ]
    }
   ],
   "source": [
    "import mysql.connector\n",
    "\n",
    "\n",
    "def get_db_connection():\n",
    "    mydb = mysql.connector.connect(\n",
    "      host=\"localhost\",\n",
    "      user=\"root\",\n",
    "      password=\"admin\"\n",
    "    )\n",
    "    if mydb.is_connected():\n",
    "        print(\"Connected to MySQL Server\")\n",
    "        cursor = mydb.cursor()\n",
    "        cursor.execute(\"use Save;\")\n",
    "        return mydb, cursor\n",
    "    else:\n",
    "        return None, None\n",
    "\n",
    "mydb,cursor = get_db_connection()\n",
    "print(mydb)"
   ]
  },
  {
   "cell_type": "code",
   "execution_count": 21,
   "id": "536eca58",
   "metadata": {},
   "outputs": [
    {
     "name": "stdout",
     "output_type": "stream",
     "text": [
      "True\n"
     ]
    }
   ],
   "source": [
    "print(mydb.is_connected())"
   ]
  },
  {
   "cell_type": "code",
   "execution_count": 22,
   "id": "904d706d",
   "metadata": {
    "scrolled": false
   },
   "outputs": [],
   "source": [
    "import pandas as pd\n",
    "\n",
    "def process_accounts_file(mydb):\n",
    "    if (mydb):\n",
    "        # Providing a customer header, csv has inconsistent spaces in it's header row.\n",
    "        df = pd.read_csv('account_info.csv', header=0, names=['first_name', 'last_name',\n",
    "        'street_address', 'unit', 'city', 'state', 'zip', 'dob', 'ssn'\n",
    "        ,'email_address','mobile_number','account_number'])\n",
    "\n",
    "        #print(df.dtypes)\n",
    "\n",
    "        for index, row in df.iterrows():\n",
    "            # remove # from unit and put NULL for NAN records(DB requirement).\n",
    "            unit = str(row['unit']).replace(\"#\", \"\")\n",
    "            if (str(row['unit']).upper()== 'NAN'):\n",
    "                unit = \"NULL\"\n",
    "\n",
    "\n",
    "            #Convert DOB to MySQL datetime format\n",
    "            dob_split = row['dob'].split(\"/\")\n",
    "            if len(dob_split[0]) == 1:\n",
    "                dob_split[0] = \"0\"+dob_split[0]\n",
    "            if len(dob_split[1]) == 1:\n",
    "                dob_split[1] = \"0\"+dob_split[1]\n",
    "            dob = dob_split[2]+\"-\"+dob_split[0]+\"-\"+dob_split[1]\n",
    "\n",
    "            query_string = \"insert into accounts (first_name, last_name, street_address, unit, city, state, zip, dob, ssn, email_address, mobile_number, account_number) values (\\\"{0}\\\", \\\"{1}\\\", \\\"{2}\\\", {3}, \\\"{4}\\\", \\\"{5}\\\", \\\"{6}\\\", \\\"{7}\\\", \\\"{8}\\\", \\\"{9}\\\", {10}, {11});\".format(row['first_name'], row['last_name'], row['street_address'], unit, row['city'], row['state'], row['zip'], dob, row['ssn'], row['email_address'], row['mobile_number'], row['account_number'])\n",
    "\n",
    "            #print(query_string)\n",
    "            cursor.execute(query_string)\n",
    "\n",
    "        # Commit changes to db\n",
    "        mydb.commit()\n",
    "    else:\n",
    "        print(\"DB connection unsuccessful.\")\n",
    "process_accounts_file(mydb)            \n",
    " "
   ]
  },
  {
   "cell_type": "code",
   "execution_count": 23,
   "id": "60c779db",
   "metadata": {},
   "outputs": [],
   "source": [
    "\n",
    "def process_transactions_file(mydb):\n",
    "    if (mydb):\n",
    "        # Providing a customer header, csv has inconsistent spaces in it's header row.\n",
    "        df = pd.read_csv('transactions.csv', header=0, names=['account_number',\n",
    "        'transaction_datetime', 'transaction_amount', 'post_date', 'merchant_number',\n",
    "        'merchant_description','merchant_category_code','transaction_number'])\n",
    "\n",
    "        #print(df.dtypes)\n",
    "\n",
    "        for index, row in df.iterrows():\n",
    "\n",
    "            #Put transaction_datetime to DB datetime format\n",
    "            t_dt_split = row['transaction_datetime'].split(\" \")\n",
    "            # year-month-day\n",
    "            t_date = t_dt_split[0][-4:] + \"-\" + t_dt_split[0][-8:-6] + \"-\" + t_dt_split[0][-6:-4] \n",
    "\n",
    "            transaction_datetime = t_date + \" \" + t_dt_split[1]\n",
    "\n",
    "            # clean transaction amount\n",
    "            transaction_amount = float(row['transaction_amount'][-1]+row['transaction_amount'][0:-1])\n",
    "\n",
    "            #format post_date to DB date format\n",
    "            post_date = str(row['post_date'])[-4:] + \"-\" + str(row['post_date'])[-8:-6] + \"-\" + str(row['post_date'])[-6:-4]\n",
    "\n",
    "            \"\"\"\n",
    "            insert into transactions (account_number, transaction_datetime, transaction_amount, post_date, merchant_number, merchant_description, merchant_category_code, transaction_number) \n",
    "    values (1222, \"2010-12-12 21:10:10\", 100.100, \"2010-10-10\", 10000, \"DEF\", 1000, 1000);\n",
    "\n",
    "            \"\"\"\n",
    "\n",
    "            query_string = \"insert into transactions (account_number, transaction_datetime, transaction_amount, post_date, merchant_number, merchant_description, merchant_category_code, transaction_number) values ({0}, \\\"{1}\\\", {2}, \\\"{3}\\\", \\\"{4}\\\", \\\"{5}\\\", {6}, {7});\".format(row['account_number'], transaction_datetime, transaction_amount, post_date, row['merchant_number'], row['merchant_description'], row['transaction_number'], row['merchant_category_code'])\n",
    "\n",
    "            #print(query_string)\n",
    "            cursor.execute(query_string)\n",
    "        # Commit changes to DB\n",
    "        mydb.commit()\n",
    "    else:\n",
    "        print(\"DB connection unsuccessful.\")\n",
    "process_transactions_file(mydb)            \n",
    " "
   ]
  },
  {
   "cell_type": "code",
   "execution_count": 13,
   "id": "c17e6b87",
   "metadata": {},
   "outputs": [],
   "source": [
    "mydb.close()"
   ]
  },
  {
   "cell_type": "code",
   "execution_count": null,
   "id": "409c532a",
   "metadata": {},
   "outputs": [],
   "source": []
  }
 ],
 "metadata": {
  "kernelspec": {
   "display_name": "Python 3 (ipykernel)",
   "language": "python",
   "name": "python3"
  },
  "language_info": {
   "codemirror_mode": {
    "name": "ipython",
    "version": 3
   },
   "file_extension": ".py",
   "mimetype": "text/x-python",
   "name": "python",
   "nbconvert_exporter": "python",
   "pygments_lexer": "ipython3",
   "version": "3.9.7"
  }
 },
 "nbformat": 4,
 "nbformat_minor": 5
}
